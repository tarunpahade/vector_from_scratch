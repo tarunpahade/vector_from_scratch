{
 "cells": [
  {
   "cell_type": "code",
   "execution_count": 2,
   "id": "598cd0aa-23c9-4e70-b2e2-75d04e2c1222",
   "metadata": {},
   "outputs": [
    {
     "name": "stdout",
     "output_type": "stream",
     "text": [
      "Requirement already satisfied: gensim in c:\\users\\user\\appdata\\local\\programs\\python\\python312\\lib\\site-packages (4.3.3)\n",
      "Requirement already satisfied: numpy<2.0,>=1.18.5 in c:\\users\\user\\appdata\\local\\programs\\python\\python312\\lib\\site-packages (from gensim) (1.26.4)\n",
      "Requirement already satisfied: scipy<1.14.0,>=1.7.0 in c:\\users\\user\\appdata\\local\\programs\\python\\python312\\lib\\site-packages (from gensim) (1.13.1)\n",
      "Requirement already satisfied: smart-open>=1.8.1 in c:\\users\\user\\appdata\\local\\programs\\python\\python312\\lib\\site-packages (from gensim) (7.1.0)\n",
      "Requirement already satisfied: wrapt in c:\\users\\user\\appdata\\local\\programs\\python\\python312\\lib\\site-packages (from smart-open>=1.8.1->gensim) (1.17.0)\n"
     ]
    }
   ],
   "source": [
    "%pip install gensim\n",
    "import numpy as np\n",
    "\n",
    "## Get yhe interactive tools for Matplotlib\n",
    "#  matplotlib notebook \n",
    "%matplotlib inline \n",
    "import matplotlib.pyplot as plt\n",
    "plt.style.use('ggplot')\n",
    "\n",
    "from sklearn.decomposition import PCA\n",
    "\n",
    "import gensim.downloader as api\n",
    "from gensim.models import KeyedVectors\n"
   ]
  },
  {
   "cell_type": "code",
   "execution_count": 3,
   "id": "513a3f75-46a2-4409-8a8b-663fc210cf3f",
   "metadata": {},
   "outputs": [
    {
     "name": "stdout",
     "output_type": "stream",
     "text": [
      "type[<gensim.models.keyedvectors.KeyedVectors object at 0x00000180CA0BAA50>]\n"
     ]
    }
   ],
   "source": [
    "model = api.load(\"glove-wiki-gigaword-100\")\n",
    "print(type[model])"
   ]
  },
  {
   "cell_type": "code",
   "execution_count": 4,
   "id": "d095f75d-55d3-4545-896f-495b953dcebb",
   "metadata": {},
   "outputs": [
    {
     "data": {
      "text/plain": [
       "array([-0.66146  ,  0.94335  , -0.72214  ,  0.17403  , -0.42524  ,\n",
       "        0.36303  ,  1.0135   , -0.14802  ,  0.25817  , -0.20326  ,\n",
       "       -0.64338  ,  0.16632  ,  0.61518  ,  1.397    , -0.094506 ,\n",
       "        0.0041843, -0.18976  , -0.55421  , -0.39371  , -0.22501  ,\n",
       "       -0.34643  ,  0.32076  ,  0.34395  , -0.7034   ,  0.23932  ,\n",
       "        0.69951  , -0.16461  , -0.31819  , -0.34034  , -0.44906  ,\n",
       "       -0.069667 ,  0.35348  ,  0.17498  , -0.95057  , -0.2209   ,\n",
       "        1.0647   ,  0.23231  ,  0.32569  ,  0.47662  , -1.1206   ,\n",
       "        0.28168  , -0.75172  , -0.54654  , -0.66337  ,  0.34804  ,\n",
       "       -0.69058  , -0.77092  , -0.40167  , -0.069351 , -0.049238 ,\n",
       "       -0.39351  ,  0.16735  , -0.14512  ,  1.0083   , -1.0608   ,\n",
       "       -0.87314  , -0.29339  ,  0.68278  ,  0.61634  , -0.088844 ,\n",
       "        0.88094  ,  0.099809 , -0.27161  , -0.58026  ,  0.50364  ,\n",
       "       -0.93814  ,  0.67576  , -0.43124  , -0.10517  , -1.2404   ,\n",
       "       -0.74353  ,  0.28637  ,  0.29012  ,  0.89377  ,  0.67406  ,\n",
       "        0.86422  , -0.30693  , -0.14718  ,  0.078353 ,  0.74013  ,\n",
       "        0.32658  , -0.052579 , -1.1665   ,  0.87079  , -0.69402  ,\n",
       "       -0.75977  , -0.37164  , -0.11887  ,  0.18551  ,  0.041883 ,\n",
       "        0.59352  ,  0.30519  , -0.54819  , -0.29424  , -1.4912   ,\n",
       "       -1.6548   ,  0.98982  ,  0.27325  ,  1.009    ,  0.94544  ],\n",
       "      dtype=float32)"
      ]
     },
     "execution_count": 4,
     "metadata": {},
     "output_type": "execute_result"
    }
   ],
   "source": [
    "model['bread']"
   ]
  },
  {
   "cell_type": "code",
   "execution_count": 5,
   "id": "08d12fa5-fcee-4e3a-8572-1d16171de205",
   "metadata": {},
   "outputs": [
    {
     "data": {
      "text/plain": [
       "[('canada', 0.6544384956359863),\n",
       " ('america', 0.645224392414093),\n",
       " ('u.s.a.', 0.6184033751487732),\n",
       " ('united', 0.6017189621925354),\n",
       " ('states', 0.5970699191093445),\n",
       " ('australia', 0.5838716626167297),\n",
       " ('world', 0.5590084195137024),\n",
       " ('2010', 0.5580702424049377),\n",
       " ('2012', 0.5504006743431091),\n",
       " ('davis', 0.5464468002319336)]"
      ]
     },
     "execution_count": 5,
     "metadata": {},
     "output_type": "execute_result"
    }
   ],
   "source": [
    "model.most_similar('usa')"
   ]
  },
  {
   "cell_type": "code",
   "execution_count": 7,
   "id": "b17e62a7-bd25-4a5d-9503-9a0a14655bc0",
   "metadata": {},
   "outputs": [
    {
     "name": "stdout",
     "output_type": "stream",
     "text": [
      "[('queen', 0.7698540687561035), ('monarch', 0.6843381524085999), ('throne', 0.6755736470222473), ('daughter', 0.6594556570053101), ('princess', 0.6520534157752991), ('prince', 0.6517034769058228), ('elizabeth', 0.6464517712593079), ('mother', 0.631171703338623), ('emperor', 0.6106470823287964), ('wife', 0.6098655462265015)]\n"
     ]
    }
   ],
   "source": [
    "result = model.most_similar(positive=['woman', 'king'], negative=['man'])\n",
    "print(result)"
   ]
  },
  {
   "cell_type": "code",
   "execution_count": 8,
   "id": "3db92c19",
   "metadata": {},
   "outputs": [
    {
     "name": "stdout",
     "output_type": "stream",
     "text": [
      "Words similar to 'computer': [('computers', 0.8751984238624573), ('software', 0.8373122215270996), ('technology', 0.7642159461975098), ('pc', 0.7366448640823364), ('hardware', 0.7290390729904175), ('internet', 0.7286775708198547), ('desktop', 0.7234441637992859), ('electronic', 0.7221828699111938), ('systems', 0.7197922468185425), ('computing', 0.7141730785369873)]\n",
      "Similarity between 'woman' and 'man': 0.8323495\n",
      "Vector representation of 'computer': [-1.6298e-01  3.0141e-01  5.7978e-01  6.6548e-02  4.5835e-01 -1.5329e-01\n",
      "  4.3258e-01 -8.9215e-01  5.7747e-01  3.6375e-01  5.6524e-01 -5.6281e-01\n",
      "  3.5659e-01 -3.6096e-01 -9.9662e-02  5.2753e-01  3.8839e-01  9.6185e-01\n",
      "  1.8841e-01  3.0741e-01 -8.7842e-01 -3.2442e-01  1.1202e+00  7.5126e-02\n",
      "  4.2661e-01 -6.0651e-01 -1.3893e-01  4.7862e-02 -4.5158e-01  9.3723e-02\n",
      "  1.7463e-01  1.0962e+00 -1.0044e+00  6.3889e-02  3.8002e-01  2.1109e-01\n",
      " -6.6247e-01 -4.0736e-01  8.9442e-01 -6.0974e-01 -1.8577e-01 -1.9913e-01\n",
      " -6.9226e-01 -3.1806e-01 -7.8565e-01  2.3831e-01  1.2992e-01  8.7721e-02\n",
      "  4.3205e-01 -2.2662e-01  3.1549e-01 -3.1748e-01 -2.4632e-03  1.6615e-01\n",
      "  4.2358e-01 -1.8087e+00 -3.6699e-01  2.3949e-01  2.5458e+00  3.6111e-01\n",
      "  3.9486e-02  4.8607e-01 -3.6974e-01  5.7282e-02 -4.9317e-01  2.2765e-01\n",
      "  7.9966e-01  2.1428e-01  6.9811e-01  1.1262e+00 -1.3526e-01  7.1972e-01\n",
      " -9.9605e-04 -2.6842e-01 -8.3038e-01  2.1780e-01  3.4355e-01  3.7731e-01\n",
      " -4.0251e-01  3.3124e-01  1.2576e+00 -2.7196e-01 -8.6093e-01  9.0053e-02\n",
      " -2.4876e+00  4.5200e-01  6.6945e-01 -5.4648e-01 -1.0324e-01 -1.6979e-01\n",
      "  5.9437e-01  1.1280e+00  7.5755e-01 -5.9160e-02  1.5152e-01 -2.8388e-01\n",
      "  4.9452e-01 -9.1703e-01  9.1289e-01 -3.0927e-01]\n",
      "Words related to 'king' as 'woman' is to 'man': [('queen', 0.7698540687561035), ('monarch', 0.6843381524085999), ('throne', 0.6755736470222473), ('daughter', 0.6594556570053101), ('princess', 0.6520534157752991), ('prince', 0.6517034769058228), ('elizabeth', 0.6464517712593079), ('mother', 0.631171703338623), ('emperor', 0.6106470823287964), ('wife', 0.6098655462265015)]\n"
     ]
    }
   ],
   "source": [
    "# Find words similar to 'computer'\n",
    "similar_words = model.most_similar('computer')\n",
    "print(\"Words similar to 'computer':\", similar_words)\n",
    "\n",
    "# Calculate similarity between two words\n",
    "similarity_score = model.similarity('woman', 'man')\n",
    "print(\"Similarity between 'woman' and 'man':\", similarity_score)\n",
    "\n",
    "# Get the vector representation of a word\n",
    "word_vector = model['computer']\n",
    "print(\"Vector representation of 'computer':\", word_vector)\n",
    "\n",
    "# Find words that are related in the same way as 'king' is to 'man'\n",
    "analogy_result = model.most_similar(positive=['woman', 'king'], negative=['man'])\n",
    "print(\"Words related to 'king' as 'woman' is to 'man':\", analogy_result)"
   ]
  },
  {
   "cell_type": "code",
   "execution_count": 4,
   "id": "889ec4bf",
   "metadata": {},
   "outputs": [],
   "source": [
    "import numpy as np\n",
    "from typing import List, Dict, Tuple\n",
    "import faiss\n",
    "from sentence_transformers import SentenceTransformer\n",
    "\n",
    "class VectorSimilaritySearch:\n",
    "    def __init__(self, dimension: int = 384):\n",
    "        self.model = SentenceTransformer('all-MiniLM-L6-v2')\n",
    "        self.index = faiss.IndexFlatL2(dimension)\n",
    "        self.text_lookup: Dict[int, str] = {}\n",
    "        self.current_id = 0\n",
    "    \n",
    "    def add_texts(self, texts: List[str]) -> None:\n",
    "        # Convert texts to vectors\n",
    "        vectors = self.model.encode(texts)\n",
    "        \n",
    "        # Add to FAISS index\n",
    "        for i, text in enumerate(texts):\n",
    "            vector = vectors[i].reshape(1, -1)\n",
    "            self.index.add(vector.astype('float32'))\n",
    "            self.text_lookup[self.current_id] = text\n",
    "            self.current_id += 1\n",
    "    \n",
    "    def search(self, query: str, k: int = 5) -> List[Tuple[str, float]]:\n",
    "        # Convert query to vector\n",
    "        query_vector = self.model.encode([query])[0].reshape(1, -1)\n",
    "        \n",
    "        # Search index\n",
    "        distances, indices = self.index.search(\n",
    "            query_vector.astype('float32'), k\n",
    "        )\n",
    "        \n",
    "        # Format results\n",
    "        results = []\n",
    "        for idx, dist in zip(indices[0], distances[0]):\n",
    "            if idx != -1:\n",
    "                similarity = 1 / (1 + dist)  # Convert distance to similarity\n",
    "                results.append((self.text_lookup[idx], similarity))\n",
    "        \n",
    "        return results\n",
    "\n",
    "    def batch_search(\n",
    "        self, \n",
    "        queries: List[str], \n",
    "        k: int = 5\n",
    "    ) -> List[List[Tuple[str, float]]]:\n",
    "        # Convert queries to vectors\n",
    "        query_vectors = self.model.encode(queries)\n",
    "        \n",
    "        # Search index\n",
    "        distances, indices = self.index.search(\n",
    "            query_vectors.astype('float32'), k\n",
    "        )\n",
    "        \n",
    "        # Format results\n",
    "        all_results = []\n",
    "        for query_indices, query_distances in zip(indices, distances):\n",
    "            results = []\n",
    "            for idx, dist in zip(query_indices, query_distances):\n",
    "                if idx != -1:\n",
    "                    similarity = 1 / (1 + dist)\n",
    "                    results.append((self.text_lookup[idx], similarity))\n",
    "            all_results.append(results)\n",
    "            \n",
    "        return all_results"
   ]
  },
  {
   "cell_type": "code",
   "execution_count": 7,
   "id": "9582fe5c",
   "metadata": {},
   "outputs": [
    {
     "name": "stdout",
     "output_type": "stream",
     "text": [
      "Top matches: [('Neural networks are powerful', 0.6104603325421382), ('Deep learning revolutionizes AI', 0.4998297377257882), ('Machine learning transforms industries', 0.435180225117334), ('Computer vision analyzes images', 0.43361149034720936)]\n",
      "Batch results: [[('Machine learning transforms industries', 0.5065744528042764), ('Neural networks are powerful', 0.4958963531145656), ('Deep learning revolutionizes AI', 0.45741436316591555), ('Computer vision analyzes images', 0.4389900402326039)], [('Computer vision analyzes images', 0.6882277264826985), ('Neural networks are powerful', 0.4482184873626295), ('Machine learning transforms industries', 0.4222419189292866), ('Deep learning revolutionizes AI', 0.41494644719694507)]]\n"
     ]
    }
   ],
   "source": [
    "\n",
    "searcher = VectorSimilaritySearch()\n",
    "\n",
    "# Add documents\n",
    "docs = [\n",
    "    \"Neural networks are powerful\",\n",
    "    \"Machine learning transforms industries\",\n",
    "    \"Deep learning revolutionizes AI\",\n",
    "    \"Computer vision analyzes images\"\n",
    "]\n",
    "searcher.add_texts(docs)\n",
    "\n",
    "# Single search\n",
    "results = searcher.search(\"AI and neural networks\")\n",
    "print(f\"Top matches: {results}\")\n",
    "\n",
    "# Batch search\n",
    "queries = [\"machine learning\", \"computer vision\"]\n",
    "batch_results = searcher.batch_search(queries)\n",
    "print(f\"Batch results: {batch_results}\")"
   ]
  },
  {
   "cell_type": "code",
   "execution_count": null,
   "id": "287746a5",
   "metadata": {},
   "outputs": [],
   "source": []
  },
  {
   "cell_type": "code",
   "execution_count": null,
   "id": "fdad0a99",
   "metadata": {},
   "outputs": [],
   "source": []
  }
 ],
 "metadata": {
  "kernelspec": {
   "display_name": "Python 3",
   "language": "python",
   "name": "python3"
  },
  "language_info": {
   "codemirror_mode": {
    "name": "ipython",
    "version": 3
   },
   "file_extension": ".py",
   "mimetype": "text/x-python",
   "name": "python",
   "nbconvert_exporter": "python",
   "pygments_lexer": "ipython3",
   "version": "3.12.6"
  }
 },
 "nbformat": 4,
 "nbformat_minor": 5
}
