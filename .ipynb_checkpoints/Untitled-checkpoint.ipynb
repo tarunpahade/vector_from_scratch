{
 "cells": [
  {
   "cell_type": "code",
   "execution_count": null,
   "id": "598cd0aa-23c9-4e70-b2e2-75d04e2c1222",
   "metadata": {},
   "outputs": [],
   "source": [
    " import numpy as np\n",
    "\n",
    "## Get yhe interactive tools for Matplotlib\n",
    "#  matplotlib notebook \n",
    "%matplotlib inline \n",
    "import mat[plotlib.pyplot as plt\n",
    "plt.style.use('ggplot')\n",
    "\n",
    "from sklearn.decomposition from PCA\n",
    "\n",
    "import genesis.downloader as api\n",
    "from gensim.models import keyedVectors\n"
   ]
  },
  {
   "cell_type": "code",
   "execution_count": null,
   "id": "513a3f75-46a2-4409-8a8b-663fc210cf3f",
   "metadata": {},
   "outputs": [],
   "source": []
  },
  {
   "cell_type": "code",
   "execution_count": null,
   "id": "d095f75d-55d3-4545-896f-495b953dcebb",
   "metadata": {},
   "outputs": [],
   "source": []
  }
 ],
 "metadata": {
  "kernelspec": {
   "display_name": "Python 3 (ipykernel)",
   "language": "python",
   "name": "python3"
  },
  "language_info": {
   "codemirror_mode": {
    "name": "ipython",
    "version": 3
   },
   "file_extension": ".py",
   "mimetype": "text/x-python",
   "name": "python",
   "nbconvert_exporter": "python",
   "pygments_lexer": "ipython3",
   "version": "3.12.6"
  }
 },
 "nbformat": 4,
 "nbformat_minor": 5
}
